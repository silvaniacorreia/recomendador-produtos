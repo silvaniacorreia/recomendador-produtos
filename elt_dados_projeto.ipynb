{
 "cells": [
  {
   "cell_type": "code",
   "execution_count": 2,
   "id": "32a97380-9dbd-4d94-ab49-fa71f6a33f46",
   "metadata": {
    "tags": []
   },
   "outputs": [],
   "source": [
    "import pandas as pd\n",
    "from google.cloud import storage\n",
    "!pip install gcsfs --quiet\n",
    "\n",
    "bucket_name = 'projeto-recomendador'\n",
    "\n",
    "client = storage.Client()\n",
    "bucket = client.bucket(bucket_name)"
   ]
  },
  {
   "cell_type": "code",
   "execution_count": 13,
   "id": "058fe788-2619-408f-ab59-b507ef7df72d",
   "metadata": {
    "tags": []
   },
   "outputs": [
    {
     "name": "stdout",
     "output_type": "stream",
     "text": [
      "orders                            order_id                       customer_id  \\\n",
      "0  e481f51cbdc54678b7cc49136f2d6af7  9ef432eb6251297304e76186b10a928d   \n",
      "1  53cdb2fc8bc7dce0b6741e2150273451  b0830fb4747a6c6d20dea0b8c802d7ef   \n",
      "2  47770eb9100c2d0c44946d9cf07ec65d  41ce2a54c0b03bf3443c3d931a367089   \n",
      "3  949d5b44dbf5de918fe9c16f97b45f8a  f88197465ea7920adcdbec7375364d82   \n",
      "4  ad21c59c0840e6cb83a9ceb5573f8159  8ab97904e6daea8866dbdbc4fb7aad2c   \n",
      "\n",
      "  order_status order_purchase_timestamp    order_approved_at  \\\n",
      "0    delivered      2017-10-02 10:56:33  2017-10-02 11:07:15   \n",
      "1    delivered      2018-07-24 20:41:37  2018-07-26 03:24:27   \n",
      "2    delivered      2018-08-08 08:38:49  2018-08-08 08:55:23   \n",
      "3    delivered      2017-11-18 19:28:06  2017-11-18 19:45:59   \n",
      "4    delivered      2018-02-13 21:18:39  2018-02-13 22:20:29   \n",
      "\n",
      "  order_delivered_carrier_date order_delivered_customer_date  \\\n",
      "0          2017-10-04 19:55:00           2017-10-10 21:25:13   \n",
      "1          2018-07-26 14:31:00           2018-08-07 15:27:45   \n",
      "2          2018-08-08 13:50:00           2018-08-17 18:06:29   \n",
      "3          2017-11-22 13:39:59           2017-12-02 00:28:42   \n",
      "4          2018-02-14 19:46:34           2018-02-16 18:17:02   \n",
      "\n",
      "  order_estimated_delivery_date  \n",
      "0           2017-10-18 00:00:00  \n",
      "1           2018-08-13 00:00:00  \n",
      "2           2018-09-04 00:00:00  \n",
      "3           2017-12-15 00:00:00  \n",
      "4           2018-02-26 00:00:00  \n",
      "items                            order_id  order_item_id  \\\n",
      "0  00010242fe8c5a6d1ba2dd792cb16214              1   \n",
      "1  00018f77f2f0320c557190d7a144bdd3              1   \n",
      "2  000229ec398224ef6ca0657da4fc703e              1   \n",
      "3  00024acbcdf0a6daa1e931b038114c75              1   \n",
      "4  00042b26cf59d7ce69dfabb4e55b4fd9              1   \n",
      "\n",
      "                         product_id                         seller_id  \\\n",
      "0  4244733e06e7ecb4970a6e2683c13e61  48436dade18ac8b2bce089ec2a041202   \n",
      "1  e5f2d52b802189ee658865ca93d83a8f  dd7ddc04e1b6c2c614352b383efe2d36   \n",
      "2  c777355d18b72b67abbeef9df44fd0fd  5b51032eddd242adc84c38acab88f23d   \n",
      "3  7634da152a4610f1595efa32f14722fc  9d7a1d34a5052409006425275ba1c2b4   \n",
      "4  ac6c3623068f30de03045865e4e10089  df560393f3a51e74553ab94004ba5c87   \n",
      "\n",
      "   shipping_limit_date   price  freight_value  \n",
      "0  2017-09-19 09:45:35   58.90          13.29  \n",
      "1  2017-05-03 11:05:13  239.90          19.93  \n",
      "2  2018-01-18 14:48:30  199.00          17.87  \n",
      "3  2018-08-15 10:10:18   12.99          12.79  \n",
      "4  2017-02-13 13:57:51  199.90          18.14  \n",
      "products                          product_id  product_category_name  \\\n",
      "0  1e9e8ef04dbcff4541ed26657ea517e5             perfumaria   \n",
      "1  3aa071139cb16b67ca9e5dea641aaa2f                  artes   \n",
      "2  96bd76ec8810374ed1b65e291975717f          esporte_lazer   \n",
      "3  cef67bcfe19066a932b7673e239eb23d                  bebes   \n",
      "4  9dc1a7de274444849c219cff195d0b71  utilidades_domesticas   \n",
      "\n",
      "   product_name_lenght  product_description_lenght  product_photos_qty  \\\n",
      "0                 40.0                       287.0                 1.0   \n",
      "1                 44.0                       276.0                 1.0   \n",
      "2                 46.0                       250.0                 1.0   \n",
      "3                 27.0                       261.0                 1.0   \n",
      "4                 37.0                       402.0                 4.0   \n",
      "\n",
      "   product_weight_g  product_length_cm  product_height_cm  product_width_cm  \n",
      "0             225.0               16.0               10.0              14.0  \n",
      "1            1000.0               30.0               18.0              20.0  \n",
      "2             154.0               18.0                9.0              15.0  \n",
      "3             371.0               26.0                4.0              26.0  \n",
      "4             625.0               20.0               17.0              13.0  \n"
     ]
    }
   ],
   "source": [
    "# carregando datasets\n",
    "\n",
    "# olist files\n",
    "olist_orders = f\"gs://{bucket_name}/{'base_olist/olist_orders_dataset.csv'}\"\n",
    "olist_orders_items = f\"gs://{bucket_name}/{'base_olist/olist_order_items_dataset.csv'}\"\n",
    "olist_orders_products = f\"gs://{bucket_name}/{'base_olist/olist_products_dataset.csv'}\"\n",
    "\n",
    "# criando dataframes\n",
    "orders_df = pd.read_csv(olist_orders)\n",
    "items_df = pd.read_csv(olist_orders_items)\n",
    "products_df = pd.read_csv(olist_orders_products)\n",
    "\n",
    "print(\"orders\", orders_df.head())\n",
    "print(\"items\", items_df.head())\n",
    "print(\"products\", products_df.head())"
   ]
  },
  {
   "cell_type": "code",
   "execution_count": 14,
   "id": "e5a3ea66-80e4-4c72-8f56-fcee2ac9b7a1",
   "metadata": {
    "tags": []
   },
   "outputs": [],
   "source": [
    "# joins\n",
    "# orders + items\n",
    "orders_items = orders_df.merge(items_df, on='order_id', how='inner')[[\"customer_id\", \"product_id\", \"order_purchase_timestamp\"]]\n",
    "\n",
    "# orders_items + products\n",
    "orders_items_products = orders_items.merge(products_df[[\"product_id\", \"product_category_name\"]], on='product_id', how='left')\n",
    "\n",
    "# df final\n",
    "dataset_olist_final = orders_items_products[[\n",
    "    \"customer_id\", \"product_id\", \"order_purchase_timestamp\", \"product_category_name\"\n",
    "]]"
   ]
  },
  {
   "cell_type": "code",
   "execution_count": 23,
   "id": "450fdbf6-3ef2-4a65-a2e7-32875e577964",
   "metadata": {
    "tags": []
   },
   "outputs": [
    {
     "name": "stdout",
     "output_type": "stream",
     "text": [
      "                        customer_id                        product_id  \\\n",
      "0  9ef432eb6251297304e76186b10a928d  87285b34884572647811a353c7ac498a   \n",
      "1  b0830fb4747a6c6d20dea0b8c802d7ef  595fac2a385ac33a80bd5114aec74eb8   \n",
      "2  41ce2a54c0b03bf3443c3d931a367089  aa4383b373c6aca5d8797843e5594415   \n",
      "3  f88197465ea7920adcdbec7375364d82  d0b61bfb1de832b15ba9d266ca96e5b0   \n",
      "4  8ab97904e6daea8866dbdbc4fb7aad2c  65266b2da20d04dbe00c5c2d3bb7859e   \n",
      "\n",
      "  order_purchase_timestamp  product_category_name  \n",
      "0      2017-10-02 10:56:33  utilidades_domesticas  \n",
      "1      2018-07-24 20:41:37             perfumaria  \n",
      "2      2018-08-08 08:38:49             automotivo  \n",
      "3      2017-11-18 19:28:06               pet_shop  \n",
      "4      2018-02-13 21:18:39              papelaria  \n",
      "Linhas com nulos: Empty DataFrame\n",
      "Columns: [customer_id, product_id, order_purchase_timestamp, product_category_name]\n",
      "Index: []\n"
     ]
    }
   ],
   "source": [
    "# tratamento de nulos\n",
    "dataset_olist_final.dropna(inplace=True)\n",
    "\n",
    "# conversão de datas\n",
    "dataset_olist_final[\"order_purchase_timestamp\"] = pd.to_datetime(\n",
    "    dataset_olist_final[\"order_purchase_timestamp\"], errors=\"coerce\"\n",
    ")\n",
    "dataset_olist_final.dropna(subset=[\"order_purchase_timestamp\"], inplace=True)\n",
    "\n",
    "print(dataset_olist_final.head())\n",
    "print(\"Linhas com nulos:\", dataset_olist_final[dataset_olist_final.isna().any(axis=1)])"
   ]
  },
  {
   "cell_type": "code",
   "execution_count": 24,
   "id": "84cefb39-f8af-4428-a3ae-36a62025d8cf",
   "metadata": {
    "tags": []
   },
   "outputs": [
    {
     "name": "stdout",
     "output_type": "stream",
     "text": [
      "CSV salvo localmente.\n"
     ]
    }
   ],
   "source": [
    "# salvar CSV local\n",
    "local_file = \"historico_compras_clientes.csv\"\n",
    "dataset_olist_final.to_csv(local_file, index=False)\n",
    "print(\"CSV salvo localmente.\")"
   ]
  },
  {
   "cell_type": "code",
   "execution_count": 25,
   "id": "f8d21c6e-3390-4dcf-a8e6-1ea9bb417354",
   "metadata": {
    "tags": []
   },
   "outputs": [
    {
     "name": "stdout",
     "output_type": "stream",
     "text": [
      "Upload concluído: gs://projeto-recomendador/historico_compras_clientes.csv\n"
     ]
    }
   ],
   "source": [
    "# upload para o bucket\n",
    "destination_blob = \"historico_compras_clientes.csv\"\n",
    "\n",
    "client = storage.Client()\n",
    "bucket = client.bucket(bucket_name)\n",
    "blob = bucket.blob(destination_blob)\n",
    "blob.upload_from_filename(local_file)\n",
    "\n",
    "print(f\"Upload concluído: gs://{bucket_name}/{destination_blob}\")"
   ]
  }
 ],
 "metadata": {
  "environment": {
   "kernel": "conda-base-py",
   "name": "workbench-notebooks.m130",
   "type": "gcloud",
   "uri": "us-docker.pkg.dev/deeplearning-platform-release/gcr.io/workbench-notebooks:m130"
  },
  "kernelspec": {
   "display_name": "Python 3 (ipykernel)",
   "language": "python",
   "name": "conda-base-py"
  },
  "language_info": {
   "codemirror_mode": {
    "name": "ipython",
    "version": 3
   },
   "file_extension": ".py",
   "mimetype": "text/x-python",
   "name": "python",
   "nbconvert_exporter": "python",
   "pygments_lexer": "ipython3",
   "version": "3.10.18"
  }
 },
 "nbformat": 4,
 "nbformat_minor": 5
}
