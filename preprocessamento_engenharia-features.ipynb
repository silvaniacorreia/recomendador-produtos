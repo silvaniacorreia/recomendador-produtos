{
 "cells": [
  {
   "cell_type": "code",
   "execution_count": 2,
   "id": "8b08e219-3888-4629-b2d1-40108fe8f198",
   "metadata": {
    "tags": []
   },
   "outputs": [
    {
     "name": "stdout",
     "output_type": "stream",
     "text": [
      "Shape do dataset: (111047, 6)\n"
     ]
    },
    {
     "data": {
      "text/html": [
       "<div>\n",
       "<style scoped>\n",
       "    .dataframe tbody tr th:only-of-type {\n",
       "        vertical-align: middle;\n",
       "    }\n",
       "\n",
       "    .dataframe tbody tr th {\n",
       "        vertical-align: top;\n",
       "    }\n",
       "\n",
       "    .dataframe thead th {\n",
       "        text-align: right;\n",
       "    }\n",
       "</style>\n",
       "<table border=\"1\" class=\"dataframe\">\n",
       "  <thead>\n",
       "    <tr style=\"text-align: right;\">\n",
       "      <th></th>\n",
       "      <th>customer_id</th>\n",
       "      <th>product_id</th>\n",
       "      <th>order_purchase_timestamp</th>\n",
       "      <th>product_category_name</th>\n",
       "      <th>customer_city</th>\n",
       "      <th>customer_state</th>\n",
       "    </tr>\n",
       "  </thead>\n",
       "  <tbody>\n",
       "    <tr>\n",
       "      <th>0</th>\n",
       "      <td>9ef432eb6251297304e76186b10a928d</td>\n",
       "      <td>87285b34884572647811a353c7ac498a</td>\n",
       "      <td>2017-10-02 10:56:33</td>\n",
       "      <td>utilidades_domesticas</td>\n",
       "      <td>sao paulo</td>\n",
       "      <td>SP</td>\n",
       "    </tr>\n",
       "    <tr>\n",
       "      <th>1</th>\n",
       "      <td>b0830fb4747a6c6d20dea0b8c802d7ef</td>\n",
       "      <td>595fac2a385ac33a80bd5114aec74eb8</td>\n",
       "      <td>2018-07-24 20:41:37</td>\n",
       "      <td>perfumaria</td>\n",
       "      <td>barreiras</td>\n",
       "      <td>BA</td>\n",
       "    </tr>\n",
       "    <tr>\n",
       "      <th>2</th>\n",
       "      <td>41ce2a54c0b03bf3443c3d931a367089</td>\n",
       "      <td>aa4383b373c6aca5d8797843e5594415</td>\n",
       "      <td>2018-08-08 08:38:49</td>\n",
       "      <td>automotivo</td>\n",
       "      <td>vianopolis</td>\n",
       "      <td>GO</td>\n",
       "    </tr>\n",
       "    <tr>\n",
       "      <th>3</th>\n",
       "      <td>f88197465ea7920adcdbec7375364d82</td>\n",
       "      <td>d0b61bfb1de832b15ba9d266ca96e5b0</td>\n",
       "      <td>2017-11-18 19:28:06</td>\n",
       "      <td>pet_shop</td>\n",
       "      <td>sao goncalo do amarante</td>\n",
       "      <td>RN</td>\n",
       "    </tr>\n",
       "    <tr>\n",
       "      <th>4</th>\n",
       "      <td>8ab97904e6daea8866dbdbc4fb7aad2c</td>\n",
       "      <td>65266b2da20d04dbe00c5c2d3bb7859e</td>\n",
       "      <td>2018-02-13 21:18:39</td>\n",
       "      <td>papelaria</td>\n",
       "      <td>santo andre</td>\n",
       "      <td>SP</td>\n",
       "    </tr>\n",
       "  </tbody>\n",
       "</table>\n",
       "</div>"
      ],
      "text/plain": [
       "                        customer_id                        product_id  \\\n",
       "0  9ef432eb6251297304e76186b10a928d  87285b34884572647811a353c7ac498a   \n",
       "1  b0830fb4747a6c6d20dea0b8c802d7ef  595fac2a385ac33a80bd5114aec74eb8   \n",
       "2  41ce2a54c0b03bf3443c3d931a367089  aa4383b373c6aca5d8797843e5594415   \n",
       "3  f88197465ea7920adcdbec7375364d82  d0b61bfb1de832b15ba9d266ca96e5b0   \n",
       "4  8ab97904e6daea8866dbdbc4fb7aad2c  65266b2da20d04dbe00c5c2d3bb7859e   \n",
       "\n",
       "  order_purchase_timestamp  product_category_name            customer_city  \\\n",
       "0      2017-10-02 10:56:33  utilidades_domesticas                sao paulo   \n",
       "1      2018-07-24 20:41:37             perfumaria                barreiras   \n",
       "2      2018-08-08 08:38:49             automotivo               vianopolis   \n",
       "3      2017-11-18 19:28:06               pet_shop  sao goncalo do amarante   \n",
       "4      2018-02-13 21:18:39              papelaria              santo andre   \n",
       "\n",
       "  customer_state  \n",
       "0             SP  \n",
       "1             BA  \n",
       "2             GO  \n",
       "3             RN  \n",
       "4             SP  "
      ]
     },
     "execution_count": 2,
     "metadata": {},
     "output_type": "execute_result"
    }
   ],
   "source": [
    "import pandas as pd\n",
    "from google.cloud import storage\n",
    "!pip install gcsfs --quiet\n",
    "\n",
    "# carregamento do dataset consolidado\n",
    "gcs_path = \"gs://projeto-recomendador/historico_compras_clientes.csv\"  \n",
    "\n",
    "df = pd.read_csv(gcs_path)\n",
    "\n",
    "print(f\"Shape do dataset: {df.shape}\")\n",
    "df.head()\n"
   ]
  },
  {
   "cell_type": "code",
   "execution_count": 3,
   "id": "b82c6483-8209-46cb-a56a-90c8136198e0",
   "metadata": {
    "tags": []
   },
   "outputs": [
    {
     "name": "stdout",
     "output_type": "stream",
     "text": [
      "\n",
      "Tipos de dados:\n",
      "customer_id                 object\n",
      "product_id                  object\n",
      "order_purchase_timestamp    object\n",
      "product_category_name       object\n",
      "customer_city               object\n",
      "customer_state              object\n",
      "dtype: object\n",
      "\n",
      "Nº de valores únicos por coluna:\n",
      "customer_id                 97277\n",
      "product_id                  32341\n",
      "order_purchase_timestamp    96742\n",
      "product_category_name          73\n",
      "customer_city                4095\n",
      "customer_state                 27\n",
      "dtype: int64\n",
      "\n",
      "Valores nulos por coluna:\n",
      "customer_id                 0\n",
      "product_id                  0\n",
      "order_purchase_timestamp    0\n",
      "product_category_name       0\n",
      "customer_city               0\n",
      "customer_state              0\n",
      "dtype: int64\n",
      "\n",
      "Estatísticas descritivas:\n",
      "                             customer_id                        product_id  \\\n",
      "count                             111047                            111047   \n",
      "unique                             97277                             32341   \n",
      "top     fc3d1daec319d62d49bfb5e1f83123e9  aca2eb7d00ea1a7b8ebd4e68314663af   \n",
      "freq                                  21                               527   \n",
      "\n",
      "       order_purchase_timestamp product_category_name customer_city  \\\n",
      "count                    111047                111047        111047   \n",
      "unique                    96742                    73          4095   \n",
      "top         2017-07-16 18:19:25       cama_mesa_banho     sao paulo   \n",
      "freq                         21                 11115         17513   \n",
      "\n",
      "       customer_state  \n",
      "count          111047  \n",
      "unique             27  \n",
      "top                SP  \n",
      "freq            46794  \n",
      "\n",
      "Categorias distintas em colunas de texto:\n",
      "customer_id: 97277 categorias\n",
      "product_id: 32341 categorias\n",
      "order_purchase_timestamp: 96742 categorias\n",
      "product_category_name: 73 categorias\n",
      "customer_city: 4095 categorias\n",
      "customer_state: 27 categorias\n"
     ]
    }
   ],
   "source": [
    "# Verificações\n",
    "\n",
    "# tipos de dados\n",
    "print(\"\\nTipos de dados:\")\n",
    "print(df.dtypes)\n",
    "\n",
    "# colunas com valores únicos\n",
    "print(\"\\nNº de valores únicos por coluna:\")\n",
    "print(df.nunique())\n",
    "\n",
    "# valores nulos (confirmação final)\n",
    "print(\"\\nValores nulos por coluna:\")\n",
    "print(df.isnull().sum())\n",
    "\n",
    "# estatísticas básicas para variáveis numéricas\n",
    "print(\"\\nEstatísticas descritivas:\")\n",
    "print(df.describe())\n",
    "\n",
    "# Verificações colunas categóricas\n",
    "print(\"\\nCategorias distintas em colunas de texto:\")\n",
    "for col in df.select_dtypes(include='object').columns:\n",
    "    print(f\"{col}: {df[col].nunique()} categorias\")\n"
   ]
  },
  {
   "cell_type": "code",
   "execution_count": 4,
   "id": "1d35b9e3-f4fa-4346-8aca-f32820d1217f",
   "metadata": {
    "tags": []
   },
   "outputs": [
    {
     "name": "stdout",
     "output_type": "stream",
     "text": [
      "customer_id                         object\n",
      "product_id                          object\n",
      "order_purchase_timestamp    datetime64[ns]\n",
      "product_category_name             category\n",
      "customer_city                     category\n",
      "customer_state                    category\n",
      "dtype: object\n"
     ]
    }
   ],
   "source": [
    "# Conveção timestamp para datetime\n",
    "df['order_purchase_timestamp'] = pd.to_datetime(\n",
    "    df['order_purchase_timestamp'], errors='coerce'\n",
    ")\n",
    "\n",
    "# Converção colunas categóricas, para performance\n",
    "categorical_cols = ['product_category_name', 'customer_city', 'customer_state']\n",
    "for col in categorical_cols:\n",
    "    df[col] = df[col].astype('category')\n",
    "    \n",
    "print(df.dtypes)"
   ]
  },
  {
   "cell_type": "code",
   "execution_count": 5,
   "id": "fb561372-7748-4d2d-b083-26f3029a5f48",
   "metadata": {
    "tags": []
   },
   "outputs": [
    {
     "data": {
      "text/plain": [
       "order_purchase_timestamp\n",
       "1    97277\n",
       "Name: count, dtype: int64"
      ]
     },
     "execution_count": 5,
     "metadata": {},
     "output_type": "execute_result"
    }
   ],
   "source": [
    "# Objetivo: gerar variáveis agregadas para traçar perfis de clientes de acordo com o comportamento de compras\n",
    "\n",
    "# considerar apenas combinações únicas de cliente + data da compra (1 linha por pedido real)\n",
    "df_pedidos_unicos = df.drop_duplicates(subset=['customer_id', 'order_purchase_timestamp'])\n",
    "\n",
    "# recência: última compra até o presente\n",
    "data_atual = df_pedidos_unicos['order_purchase_timestamp'].max()\n",
    "\n",
    "# Há clientes com mais de um pedido feito em datas diferentes, no dataset?\n",
    "# número de dias distintos com compras por cliente\n",
    "compras_por_cliente = df.groupby('customer_id')['order_purchase_timestamp'].nunique()\n",
    "\n",
    "# quantos clientes têm mais de uma compra em dias diferentes\n",
    "compras_por_cliente.value_counts().sort_index()\n",
    "\n"
   ]
  },
  {
   "cell_type": "code",
   "execution_count": 13,
   "id": "91680e36-0472-44d9-861f-b818eb9ce375",
   "metadata": {
    "tags": []
   },
   "outputs": [
    {
     "data": {
      "text/html": [
       "<div>\n",
       "<style scoped>\n",
       "    .dataframe tbody tr th:only-of-type {\n",
       "        vertical-align: middle;\n",
       "    }\n",
       "\n",
       "    .dataframe tbody tr th {\n",
       "        vertical-align: top;\n",
       "    }\n",
       "\n",
       "    .dataframe thead th {\n",
       "        text-align: right;\n",
       "    }\n",
       "</style>\n",
       "<table border=\"1\" class=\"dataframe\">\n",
       "  <thead>\n",
       "    <tr style=\"text-align: right;\">\n",
       "      <th></th>\n",
       "      <th>recencia_compra</th>\n",
       "    </tr>\n",
       "  </thead>\n",
       "  <tbody>\n",
       "    <tr>\n",
       "      <th>count</th>\n",
       "      <td>97277.000000</td>\n",
       "    </tr>\n",
       "    <tr>\n",
       "      <th>mean</th>\n",
       "      <td>244.072597</td>\n",
       "    </tr>\n",
       "    <tr>\n",
       "      <th>std</th>\n",
       "      <td>153.411569</td>\n",
       "    </tr>\n",
       "    <tr>\n",
       "      <th>min</th>\n",
       "      <td>0.000000</td>\n",
       "    </tr>\n",
       "    <tr>\n",
       "      <th>25%</th>\n",
       "      <td>120.000000</td>\n",
       "    </tr>\n",
       "    <tr>\n",
       "      <th>50%</th>\n",
       "      <td>225.000000</td>\n",
       "    </tr>\n",
       "    <tr>\n",
       "      <th>75%</th>\n",
       "      <td>354.000000</td>\n",
       "    </tr>\n",
       "    <tr>\n",
       "      <th>max</th>\n",
       "      <td>728.000000</td>\n",
       "    </tr>\n",
       "  </tbody>\n",
       "</table>\n",
       "</div>"
      ],
      "text/plain": [
       "       recencia_compra\n",
       "count     97277.000000\n",
       "mean        244.072597\n",
       "std         153.411569\n",
       "min           0.000000\n",
       "25%         120.000000\n",
       "50%         225.000000\n",
       "75%         354.000000\n",
       "max         728.000000"
      ]
     },
     "execution_count": 13,
     "metadata": {},
     "output_type": "execute_result"
    }
   ],
   "source": [
    "# como não há mais de um pedido por cliente, a análise não poderá ser feita em cima de histórico de múltiplas compras.\n",
    "# features por cliente\n",
    "df_agg = df_pedidos_unicos.groupby('customer_id').agg(\n",
    "    categoria_mais_frequente=('product_category_name', lambda x: x.mode().iloc[0] if not x.mode().empty else None),\n",
    "    estado_cliente=('customer_state', 'first'),\n",
    "    cidade_cliente=('customer_city', 'first'),\n",
    "    data_compra=('order_purchase_timestamp', 'min')\n",
    ")\n",
    "\n",
    "# recência da última compra\n",
    "df_agg['recencia_compra'] = (data_atual - df_agg['data_compra']).dt.days\n",
    "\n",
    "# exclusão das colunas de data, que não agregam ao modelo\n",
    "df_agg.drop(['data_compra'], axis=1, inplace=True)\n",
    "\n",
    "df_agg.reset_index(inplace=True)\n",
    "df_agg.describe()\n",
    "# df_agg.head()"
   ]
  },
  {
   "cell_type": "code",
   "execution_count": 14,
   "id": "ec70984b-407f-4cc6-aca6-7d0df3715565",
   "metadata": {
    "tags": []
   },
   "outputs": [
    {
     "data": {
      "text/html": [
       "<div>\n",
       "<style scoped>\n",
       "    .dataframe tbody tr th:only-of-type {\n",
       "        vertical-align: middle;\n",
       "    }\n",
       "\n",
       "    .dataframe tbody tr th {\n",
       "        vertical-align: top;\n",
       "    }\n",
       "\n",
       "    .dataframe thead th {\n",
       "        text-align: right;\n",
       "    }\n",
       "</style>\n",
       "<table border=\"1\" class=\"dataframe\">\n",
       "  <thead>\n",
       "    <tr style=\"text-align: right;\">\n",
       "      <th></th>\n",
       "      <th>customer_id</th>\n",
       "      <th>categoria_mais_frequente</th>\n",
       "      <th>estado_cliente</th>\n",
       "      <th>cidade_cliente</th>\n",
       "      <th>recencia_compra</th>\n",
       "      <th>product_id</th>\n",
       "    </tr>\n",
       "  </thead>\n",
       "  <tbody>\n",
       "    <tr>\n",
       "      <th>0</th>\n",
       "      <td>00012a2ce6f8dcda20d059ce98491703</td>\n",
       "      <td>brinquedos</td>\n",
       "      <td>SP</td>\n",
       "      <td>osasco</td>\n",
       "      <td>292</td>\n",
       "      <td>64315bd8c0c47303179dd2e25b579d00</td>\n",
       "    </tr>\n",
       "    <tr>\n",
       "      <th>1</th>\n",
       "      <td>000161a058600d5901f007fab4c27140</td>\n",
       "      <td>beleza_saude</td>\n",
       "      <td>MG</td>\n",
       "      <td>itapecerica</td>\n",
       "      <td>413</td>\n",
       "      <td>84183944dc7cddca87a5d384452c1d3c</td>\n",
       "    </tr>\n",
       "    <tr>\n",
       "      <th>2</th>\n",
       "      <td>0001fd6190edaaf884bcaf3d49edf079</td>\n",
       "      <td>bebes</td>\n",
       "      <td>ES</td>\n",
       "      <td>nova venecia</td>\n",
       "      <td>551</td>\n",
       "      <td>9df2b21ec85378d71df4404712e17478</td>\n",
       "    </tr>\n",
       "    <tr>\n",
       "      <th>3</th>\n",
       "      <td>0002414f95344307404f0ace7a26f1d5</td>\n",
       "      <td>cool_stuff</td>\n",
       "      <td>MG</td>\n",
       "      <td>mendonca</td>\n",
       "      <td>382</td>\n",
       "      <td>af3ec22cce878225aae6d9eb6c7a78eb</td>\n",
       "    </tr>\n",
       "    <tr>\n",
       "      <th>4</th>\n",
       "      <td>000379cdec625522490c315e70c7a9fb</td>\n",
       "      <td>cama_mesa_banho</td>\n",
       "      <td>SP</td>\n",
       "      <td>sao paulo</td>\n",
       "      <td>153</td>\n",
       "      <td>868b3136c5b206f91b8208fbfdf2cb7c</td>\n",
       "    </tr>\n",
       "  </tbody>\n",
       "</table>\n",
       "</div>"
      ],
      "text/plain": [
       "                        customer_id categoria_mais_frequente estado_cliente  \\\n",
       "0  00012a2ce6f8dcda20d059ce98491703               brinquedos             SP   \n",
       "1  000161a058600d5901f007fab4c27140             beleza_saude             MG   \n",
       "2  0001fd6190edaaf884bcaf3d49edf079                    bebes             ES   \n",
       "3  0002414f95344307404f0ace7a26f1d5               cool_stuff             MG   \n",
       "4  000379cdec625522490c315e70c7a9fb          cama_mesa_banho             SP   \n",
       "\n",
       "  cidade_cliente  recencia_compra                        product_id  \n",
       "0         osasco              292  64315bd8c0c47303179dd2e25b579d00  \n",
       "1    itapecerica              413  84183944dc7cddca87a5d384452c1d3c  \n",
       "2   nova venecia              551  9df2b21ec85378d71df4404712e17478  \n",
       "3       mendonca              382  af3ec22cce878225aae6d9eb6c7a78eb  \n",
       "4      sao paulo              153  868b3136c5b206f91b8208fbfdf2cb7c  "
      ]
     },
     "execution_count": 14,
     "metadata": {},
     "output_type": "execute_result"
    }
   ],
   "source": [
    "# recuperar o último product_id por cliente\n",
    "produto_por_cliente = df_pedidos_unicos.sort_values('order_purchase_timestamp').groupby('customer_id').last()[['product_id']]\n",
    "df_modelo = df_agg.merge(produto_por_cliente, on='customer_id', how='left')\n",
    "\n",
    "df_modelo.head()\n"
   ]
  },
  {
   "cell_type": "code",
   "execution_count": 15,
   "id": "94d0bca8-64fc-416c-b5f7-ac8d1f1dffc6",
   "metadata": {
    "tags": []
   },
   "outputs": [
    {
     "name": "stdout",
     "output_type": "stream",
     "text": [
      "Upload concluído: gs://projeto-recomendador/base_modelo.csv\n"
     ]
    }
   ],
   "source": [
    "# salvar CSV local\n",
    "local_file = \"base_modelo.csv\"\n",
    "df_modelo.to_csv(local_file, index=False)\n",
    "\n",
    "# upload para o bucket\n",
    "destination_blob = \"base_modelo.csv\"\n",
    "bucket_name = 'projeto-recomendador'\n",
    "\n",
    "client = storage.Client()\n",
    "bucket = client.bucket(bucket_name)\n",
    "blob = bucket.blob(destination_blob)\n",
    "blob.upload_from_filename(local_file)\n",
    "\n",
    "print(f\"Upload concluído: gs://{bucket_name}/{destination_blob}\")"
   ]
  },
  {
   "cell_type": "code",
   "execution_count": 16,
   "id": "83e8fc1c-9908-499b-91ca-8e1e03df3c20",
   "metadata": {
    "tags": []
   },
   "outputs": [
    {
     "name": "stderr",
     "output_type": "stream",
     "text": [
      "/var/tmp/ipykernel_3675/1181894731.py:3: FutureWarning: The default of observed=False is deprecated and will be changed to True in a future version of pandas. Pass observed=False to retain current behavior or observed=True to adopt the future default and silence this warning.\n",
      "  ranking_produtos = df.groupby(['product_category_name', 'product_id']) \\\n",
      "/var/tmp/ipykernel_3675/1181894731.py:9: FutureWarning: The default of observed=False is deprecated and will be changed to True in a future version of pandas. Pass observed=False to retain current behavior or observed=True to adopt the future default and silence this warning.\n",
      "  ranking_produtos['rank'] = ranking_produtos.groupby('product_category_name')['frequencia'] \\\n",
      "/var/tmp/ipykernel_3675/1181894731.py:13: FutureWarning: The default of observed=False is deprecated and will be changed to True in a future version of pandas. Pass observed=False to retain current behavior or observed=True to adopt the future default and silence this warning.\n",
      "  dict_produtos_por_categoria = ranking_produtos.groupby('product_category_name')['product_id'] \\\n"
     ]
    }
   ],
   "source": [
    "# ranking de produtos por categoria\n",
    "# Contagem de produtos por categoria\n",
    "ranking_produtos = df.groupby(['product_category_name', 'product_id']) \\\n",
    "                     .size() \\\n",
    "                     .reset_index(name='frequencia') \\\n",
    "                     .sort_values(['product_category_name', 'frequencia'], ascending=[True, False])\n",
    "\n",
    "# Adiciona ranking por categoria\n",
    "ranking_produtos['rank'] = ranking_produtos.groupby('product_category_name')['frequencia'] \\\n",
    "                                            .rank(method='first', ascending=False)\n",
    "\n",
    "# Dicionário: categoria -> lista de produtos por ordem de popularidade\n",
    "dict_produtos_por_categoria = ranking_produtos.groupby('product_category_name')['product_id'] \\\n",
    "                                              .apply(list) \\\n",
    "                                              .to_dict()\n",
    "\n"
   ]
  },
  {
   "cell_type": "code",
   "execution_count": 17,
   "id": "e14fe668-faa1-4474-81f4-660358ee8d9e",
   "metadata": {
    "tags": []
   },
   "outputs": [
    {
     "data": {
      "text/plain": [
       "['154e7e31ebfa092203795c972e5804a6',\n",
       " '2b4609f8948be18874494203496bc318',\n",
       " '7c1bd920dbdf22470b68bde975dd3ccf',\n",
       " 'bb50f2e236e5eea0100680137654686c',\n",
       " '19c91ef95d509ea33eda93495c4d3481']"
      ]
     },
     "execution_count": 17,
     "metadata": {},
     "output_type": "execute_result"
    }
   ],
   "source": [
    "# Top 5 em beleza_saude (exemplo)\n",
    "dict_produtos_por_categoria.get('beleza_saude')[:5]\n"
   ]
  },
  {
   "cell_type": "code",
   "execution_count": 18,
   "id": "a7360474-4c24-415d-82ed-1588cfa33f0f",
   "metadata": {
    "tags": []
   },
   "outputs": [],
   "source": [
    "import json\n",
    "\n",
    "# Salva localmente como JSON\n",
    "with open('ranking_produtos.json', 'w') as f:\n",
    "    json.dump(dict_produtos_por_categoria, f)\n",
    "\n",
    "# Faz upload para o GCS\n",
    "bucket_name = 'projeto-recomendador'\n",
    "destination_blob_name = 'ranking_produtos.json'\n",
    "source_file_name = 'ranking_produtos.json'\n",
    "\n",
    "storage_client = storage.Client()\n",
    "bucket = storage_client.bucket(bucket_name)\n",
    "blob = bucket.blob(destination_blob_name)\n",
    "blob.upload_from_filename(source_file_name)\n"
   ]
  }
 ],
 "metadata": {
  "environment": {
   "kernel": "conda-base-py",
   "name": "workbench-notebooks.m130",
   "type": "gcloud",
   "uri": "us-docker.pkg.dev/deeplearning-platform-release/gcr.io/workbench-notebooks:m130"
  },
  "kernelspec": {
   "display_name": "Python 3 (ipykernel)",
   "language": "python",
   "name": "conda-base-py"
  },
  "language_info": {
   "codemirror_mode": {
    "name": "ipython",
    "version": 3
   },
   "file_extension": ".py",
   "mimetype": "text/x-python",
   "name": "python",
   "nbconvert_exporter": "python",
   "pygments_lexer": "ipython3",
   "version": "3.10.18"
  }
 },
 "nbformat": 4,
 "nbformat_minor": 5
}
